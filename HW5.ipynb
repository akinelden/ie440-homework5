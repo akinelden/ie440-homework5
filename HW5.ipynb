{
 "cells": [
  {
   "cell_type": "markdown",
   "metadata": {},
   "source": [
    "# Homework 5"
   ]
  },
  {
   "cell_type": "markdown",
   "metadata": {},
   "source": [
    "> **NOTE:** Beyler repoya ekledigim .bat dosyası ile git filter eklemis oluyorsunuz, böylece gereksiz degisiklikleri commit etmeyerek conflict ihtimalimiz cok daha düsüyor. Herkesin yapmasını tavsiye ediyorum."
   ]
  },
  {
   "cell_type": "code",
   "execution_count": null,
   "metadata": {},
   "outputs": [],
   "source": [
    "import pandas as pd\n",
    "import numpy as np\n",
    "from sympy import Symbol, lambdify"
   ]
  },
  {
   "cell_type": "code",
   "execution_count": null,
   "metadata": {},
   "outputs": [],
   "source": [
    "x1 = Symbol(\"x1\")\n",
    "x2 = Symbol(\"x2\")\n",
    "\n",
    "func1 = (5*x1 - x2)**4 + (x1 - 2)**2 + x1 - 2*x2 + 12\n",
    "func2 = 100*(x2 - x1**2)**2 + (1 - x1)**2 \n",
    "\n",
    "\n",
    "f1 = lambdify([[x1,x2]], func1, \"numpy\")\n",
    "f2 = lambdify([[x1,x2]], func2, \"numpy\")\n",
    "\n",
    "gf1 = lambdify([[x1,x2]], func1.diff([[x1, x2]]), \"numpy\")\n",
    "gf2 = lambdify([[x1,x2]], func2.diff([[x1, x2]]), \"numpy\")\n",
    "\n",
    "grad_f1 = lambda x_arr : np.array(gf1(x_arr)).reshape(1,2)\n",
    "grad_f2 = lambda x_arr : np.array(gf2(x_arr)).reshape(1,2)\n",
    "\n",
    "hf1 = lambdify([[x1,x2]], (func1.diff([[x1, x2]])).diff([[x1, x2]]), \"numpy\")\n",
    "hf2 = lambdify([[x1,x2]], (func2.diff([[x1, x2]])).diff([[x1, x2]]), \"numpy\")\n",
    "\n",
    "hess_f1= lambda x_arr : np.array(hf1(np.array(x_arr).reshape(2,)))\n",
    "hess_f2= lambda x_arr : np.array(hf2(np.array(x_arr).reshape(2,)))"
   ]
  },
  {
   "cell_type": "markdown",
   "metadata": {},
   "source": [
    "### Useful Functions"
   ]
  },
  {
   "cell_type": "code",
   "execution_count": null,
   "metadata": {},
   "outputs": [],
   "source": [
    "np_str = lambda x_k : np.array2string(x_k.reshape(len(x_k)), precision=3, separator=',')\n",
    "\n",
    "f_str = lambda x : \"{0:.4f}\".format(x)"
   ]
  },
  {
   "cell_type": "code",
   "execution_count": null,
   "metadata": {},
   "outputs": [],
   "source": [
    "class OutputTable:    \n",
    "    def __init__(self):\n",
    "        self.table = pd.DataFrame([],columns=['k', 'x^k', 'f(x^k)', 'd^k', 'a^k', 'x^k+1'])\n",
    "    def add_row(self, k, xk, fxk, dk, ak, xkp):\n",
    "        self.table.loc[len(self.table)] = [k, np_str(xk), f_str(np.asscalar(fxk)), np_str(dk), ak, np_str(xkp)]\n",
    "    def print_latex(self):\n",
    "        print(self.table.to_latex(index=False))"
   ]
  },
  {
   "cell_type": "markdown",
   "metadata": {},
   "source": [
    "### Exact Line Search"
   ]
  },
  {
   "cell_type": "code",
   "execution_count": null,
   "metadata": {},
   "outputs": [],
   "source": [
    "def GoldenSection(f,epsilon=0.005, a=-1000,b=1000):\n",
    "    golden_ratio = (1+np.sqrt(5))/2\n",
    "    gama = 1/golden_ratio\n",
    "    iteration = 0\n",
    "    x_1 = b - gama*(b-a)\n",
    "    x_2 = a + gama*(b-a)\n",
    "    fx_1 = f(x_1)\n",
    "    fx_2 = f(x_2)\n",
    "    while (b-a) >= epsilon:\n",
    "        iteration+=1\n",
    "        if(fx_1 >= fx_2):\n",
    "            a = x_1\n",
    "            x_1 = x_2\n",
    "            x_2 = a + gama*(b-a)\n",
    "            fx_1 = fx_2\n",
    "            fx_2 = f(x_2)\n",
    "        else:\n",
    "            b = x_2\n",
    "            x_2 = x_1\n",
    "            x_1 = b - gama*(b-a)\n",
    "            fx_2 = fx_1\n",
    "            fx_1 = f(x_1)\n",
    "    x_star = (a+b)/2\n",
    "    fx_star = f(x_star)\n",
    "    return x_star"
   ]
  },
  {
   "cell_type": "code",
   "execution_count": null,
   "metadata": {},
   "outputs": [],
   "source": [
    "''' \n",
    "def BisectionMethod(f,epsilon, a=-100,b=100) :\n",
    "    iteration=0\n",
    "    while (b - a) >= epsilon:\n",
    "        x_1 = (a + b) / 2\n",
    "        fx_1 = f(x_1)\n",
    "        if f(x_1 + epsilon) <= fx_1:\n",
    "            a = x_1\n",
    "        else:\n",
    "            b = x_1\n",
    "        iteration+=1\n",
    "    x_star = (a+b)/2\n",
    "    return x_star\n",
    "'''\n",
    "def ExactLineSearch(f, x0, d, eps=0.0000000001):\n",
    "    alpha = Symbol('alpha')\n",
    "    function_alpha = f(np.array(x0)+alpha*np.array(d))\n",
    "    f_alp = lambdify(alpha, function_alpha, 'numpy')\n",
    "    alp_star = GoldenSection(f_alp, epsilon=eps)\n",
    "    return alp_star"
   ]
  }
 ],
 "metadata": {
  "kernelspec": {
   "display_name": "Python 3",
   "language": "python",
   "name": "python3"
  },
  "language_info": {
   "codemirror_mode": {
    "name": "ipython",
    "version": 3
   },
   "file_extension": ".py",
   "mimetype": "text/x-python",
   "name": "python",
   "nbconvert_exporter": "python",
   "pygments_lexer": "ipython3",
   "version": "3.7.1"
  },
  "varInspector": {
   "cols": {
    "lenName": 16,
    "lenType": 16,
    "lenVar": 40
   },
   "kernels_config": {
    "python": {
     "delete_cmd_postfix": "",
     "delete_cmd_prefix": "del ",
     "library": "var_list.py",
     "varRefreshCmd": "print(var_dic_list())"
    },
    "r": {
     "delete_cmd_postfix": ") ",
     "delete_cmd_prefix": "rm(",
     "library": "var_list.r",
     "varRefreshCmd": "cat(var_dic_list()) "
    }
   },
   "types_to_exclude": [
    "module",
    "function",
    "builtin_function_or_method",
    "instance",
    "_Feature"
   ],
   "window_display": false
  }
 },
 "nbformat": 4,
 "nbformat_minor": 2
}